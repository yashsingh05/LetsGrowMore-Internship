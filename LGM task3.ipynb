{
 "cells": [
  {
   "cell_type": "markdown",
   "id": "3f3f3e9e",
   "metadata": {},
   "source": [
    "# Import Required Libraries:"
   ]
  },
  {
   "cell_type": "code",
   "execution_count": 13,
   "id": "0af7d5af",
   "metadata": {},
   "outputs": [],
   "source": [
    "from PIL import Image, ImageOps, ImageFilter, ImageChops\n"
   ]
  },
  {
   "cell_type": "markdown",
   "id": "5570c17b",
   "metadata": {},
   "source": [
    "# Load the Image:"
   ]
  },
  {
   "cell_type": "code",
   "execution_count": 14,
   "id": "c0cc3f9c",
   "metadata": {},
   "outputs": [],
   "source": [
    "image = Image.open(\"images.jpeg\")\n"
   ]
  },
  {
   "cell_type": "markdown",
   "id": "71215cf4",
   "metadata": {},
   "source": [
    "# Convert to Grayscale:"
   ]
  },
  {
   "cell_type": "code",
   "execution_count": 15,
   "id": "86d125b2",
   "metadata": {},
   "outputs": [],
   "source": [
    "image.show()\n"
   ]
  },
  {
   "cell_type": "markdown",
   "id": "20709597",
   "metadata": {},
   "source": [
    "# Invert Colors:"
   ]
  },
  {
   "cell_type": "code",
   "execution_count": 16,
   "id": "710af06e",
   "metadata": {},
   "outputs": [],
   "source": [
    "gray_image = ImageOps.grayscale(image)\n",
    "\n"
   ]
  },
  {
   "cell_type": "markdown",
   "id": "828da886",
   "metadata": {},
   "source": [
    "# Apply Gaussian Blur:"
   ]
  },
  {
   "cell_type": "code",
   "execution_count": 17,
   "id": "36483f9f",
   "metadata": {},
   "outputs": [],
   "source": [
    "inverted_image = ImageOps.invert(gray_image)\n"
   ]
  },
  {
   "cell_type": "markdown",
   "id": "0e2f30a4",
   "metadata": {},
   "source": [
    "# Combine Grayscale and Blurred Images (Blend):\n"
   ]
  },
  {
   "cell_type": "code",
   "execution_count": 18,
   "id": "b57c9aae",
   "metadata": {},
   "outputs": [],
   "source": [
    "pencil_sketch = ImageChops.blend(gray_image, blurred_image, alpha=0.5)\n"
   ]
  },
  {
   "cell_type": "markdown",
   "id": "8c7b3dfb",
   "metadata": {},
   "source": [
    "# Save Pencil Sketch to a File:"
   ]
  },
  {
   "cell_type": "code",
   "execution_count": 19,
   "id": "505791bf",
   "metadata": {},
   "outputs": [],
   "source": [
    "pencil_sketch.save(\"pencil_sketch.jpg\")\n"
   ]
  },
  {
   "cell_type": "markdown",
   "id": "b9148448",
   "metadata": {},
   "source": [
    "# Display the Pencil Sketch:"
   ]
  },
  {
   "cell_type": "code",
   "execution_count": 20,
   "id": "32868277",
   "metadata": {},
   "outputs": [],
   "source": [
    "pencil_sketch.show()\n"
   ]
  },
  {
   "cell_type": "code",
   "execution_count": null,
   "id": "0c0c5178",
   "metadata": {},
   "outputs": [],
   "source": []
  }
 ],
 "metadata": {
  "kernelspec": {
   "display_name": "Python 3 (ipykernel)",
   "language": "python",
   "name": "python3"
  },
  "language_info": {
   "codemirror_mode": {
    "name": "ipython",
    "version": 3
   },
   "file_extension": ".py",
   "mimetype": "text/x-python",
   "name": "python",
   "nbconvert_exporter": "python",
   "pygments_lexer": "ipython3",
   "version": "3.11.3"
  }
 },
 "nbformat": 4,
 "nbformat_minor": 5
}
